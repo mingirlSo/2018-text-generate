{
 "cells": [
  {
   "cell_type": "markdown",
   "metadata": {},
   "source": [
    "## Allocate data - 크롤링으로"
   ]
  },
  {
   "cell_type": "code",
   "execution_count": 1,
   "metadata": {
    "collapsed": true
   },
   "outputs": [],
   "source": [
    "from selenium.webdriver import Chrome\n",
    "import requests\n",
    "from sklearn.feature_extraction.text import CountVectorizer #feature : 변수  / CountVectorizer : TDM을 만들어준다.\n",
    "import time\n",
    "import numpy\n",
    "import operator\n",
    "from konlpy.tag import Komoran\n",
    "from urllib.parse import quote_plus\n",
    "import lxml.html\n",
    "import pickle\n",
    "import re"
   ]
  },
  {
   "cell_type": "code",
   "execution_count": 2,
   "metadata": {
    "collapsed": true
   },
   "outputs": [],
   "source": [
    "import pickle"
   ]
  },
  {
   "cell_type": "code",
   "execution_count": 5,
   "metadata": {
    "collapsed": true
   },
   "outputs": [],
   "source": [
    "## 자소서 url을 가져오자\n",
    "apply_url = []\n",
    "\n",
    "for page in range(1, 2): # page 1 ~ 229\n",
    "    url = 'http://www.jobkorea.co.kr/starter/PassAssay?FavorCo_Stat=0&Pass_An_Stat=0&OrderBy=0&EduType=0&WorkType=0&isSaved=0&Page={}'.format(page) # 페이지별로 url 바꿔주기\n",
    "    res = requests.get(url) # url을 불러온다\n",
    "    root = lxml.html.fromstring(res.text) # 분석\n",
    "    for url_code in root.cssselect('ul p a'):\n",
    "        apply_url.append('http://www.jobkorea.co.kr' + url_code.attrib['href'])\n",
    "        \n",
    "## 15min 소요"
   ]
  },
  {
   "cell_type": "code",
   "execution_count": 13,
   "metadata": {},
   "outputs": [
    {
     "data": {
      "text/plain": [
       "['http://www.jobkorea.co.kr/starter/PassAssay/View/194510?Page=1&OrderBy=0&FavorCo_Stat=0&Pass_An_Stat=0',\n",
       " 'http://www.jobkorea.co.kr/starter/PassAssay/View/194513?Page=1&OrderBy=0&FavorCo_Stat=0&Pass_An_Stat=0',\n",
       " 'http://www.jobkorea.co.kr/starter/PassAssay/View/194524?Page=1&OrderBy=0&FavorCo_Stat=0&Pass_An_Stat=0',\n",
       " 'http://www.jobkorea.co.kr/starter/PassAssay/View/194528?Page=1&OrderBy=0&FavorCo_Stat=0&Pass_An_Stat=0',\n",
       " 'http://www.jobkorea.co.kr/starter/PassAssay/View/194541?Page=1&OrderBy=0&FavorCo_Stat=0&Pass_An_Stat=0',\n",
       " 'http://www.jobkorea.co.kr/starter/PassAssay/View/194149?Page=1&OrderBy=0&FavorCo_Stat=0&Pass_An_Stat=0',\n",
       " 'http://www.jobkorea.co.kr/starter/PassAssay/View/194578?Page=1&OrderBy=0&FavorCo_Stat=0&Pass_An_Stat=0',\n",
       " 'http://www.jobkorea.co.kr/starter/PassAssay/View/194605?Page=1&OrderBy=0&FavorCo_Stat=0&Pass_An_Stat=0',\n",
       " 'http://www.jobkorea.co.kr/starter/PassAssay/View/194579?Page=1&OrderBy=0&FavorCo_Stat=0&Pass_An_Stat=0']"
      ]
     },
     "execution_count": 13,
     "metadata": {},
     "output_type": "execute_result"
    }
   ],
   "source": [
    "apply_url[1:10]"
   ]
  },
  {
   "cell_type": "code",
   "execution_count": 211,
   "metadata": {},
   "outputs": [
    {
     "data": {
      "text/plain": [
       "<function BufferedWriter.close>"
      ]
     },
     "execution_count": 211,
     "metadata": {},
     "output_type": "execute_result"
    }
   ],
   "source": [
    "## pickle에 저장하기\n",
    "# with open('apply_url.txt', 'wb') as f:\n",
    "#     pickle.dump(apply_url, f)\n",
    "# f.close"
   ]
  },
  {
   "cell_type": "code",
   "execution_count": 11,
   "metadata": {
    "collapsed": true
   },
   "outputs": [],
   "source": [
    "## pickle load 하기\n",
    "with open('apply_url.txt', 'rb') as f:\n",
    "    apply_url = pickle.load(f)"
   ]
  },
  {
   "cell_type": "code",
   "execution_count": 12,
   "metadata": {
    "scrolled": true
   },
   "outputs": [
    {
     "data": {
      "text/plain": [
       "['http://www.jobkorea.co.kr/starter/PassAssay/View/194510?Page=1&OrderBy=0&FavorCo_Stat=0&Pass_An_Stat=0',\n",
       " 'http://www.jobkorea.co.kr/starter/PassAssay/View/194513?Page=1&OrderBy=0&FavorCo_Stat=0&Pass_An_Stat=0',\n",
       " 'http://www.jobkorea.co.kr/starter/PassAssay/View/194524?Page=1&OrderBy=0&FavorCo_Stat=0&Pass_An_Stat=0',\n",
       " 'http://www.jobkorea.co.kr/starter/PassAssay/View/194528?Page=1&OrderBy=0&FavorCo_Stat=0&Pass_An_Stat=0',\n",
       " 'http://www.jobkorea.co.kr/starter/PassAssay/View/194541?Page=1&OrderBy=0&FavorCo_Stat=0&Pass_An_Stat=0',\n",
       " 'http://www.jobkorea.co.kr/starter/PassAssay/View/194149?Page=1&OrderBy=0&FavorCo_Stat=0&Pass_An_Stat=0',\n",
       " 'http://www.jobkorea.co.kr/starter/PassAssay/View/194578?Page=1&OrderBy=0&FavorCo_Stat=0&Pass_An_Stat=0',\n",
       " 'http://www.jobkorea.co.kr/starter/PassAssay/View/194605?Page=1&OrderBy=0&FavorCo_Stat=0&Pass_An_Stat=0',\n",
       " 'http://www.jobkorea.co.kr/starter/PassAssay/View/194579?Page=1&OrderBy=0&FavorCo_Stat=0&Pass_An_Stat=0']"
      ]
     },
     "execution_count": 12,
     "metadata": {},
     "output_type": "execute_result"
    }
   ],
   "source": [
    "apply_url[1:10]"
   ]
  },
  {
   "cell_type": "code",
   "execution_count": 4,
   "metadata": {},
   "outputs": [
    {
     "data": {
      "text/plain": [
       "4580"
      ]
     },
     "execution_count": 4,
     "metadata": {},
     "output_type": "execute_result"
    }
   ],
   "source": [
    "len(apply_url) # 4850개의 자소서"
   ]
  },
  {
   "cell_type": "code",
   "execution_count": 13,
   "metadata": {
    "collapsed": true
   },
   "outputs": [],
   "source": [
    "win_apply = [] # 4850개의 자소서를 가져오자\n",
    "\n",
    "for url in apply_url: # 4850개의 합격자소서 url 가져오기\n",
    "    res = requests.get(url)\n",
    "    root = lxml.html.fromstring(res.text)\n",
    "    for content in root.cssselect('dd div.tx'):\n",
    "        win_apply.append(content.text_content().replace(\"아쉬운점 1\", \"\").replace(\"좋은점 1\", \"\").replace(\"아쉬운점 2\", \"\").replace(\"좋은점 2\", \"\")\n",
    "                        .replace(\"아쉬운점 3\", \"\").replace(\"좋은점 3\", \"\").replace(\"아쉬운점 4\", \"\").replace(\"좋은점 4\", \"\").replace(\"아쉬운점 5\", \"\")\n",
    "                         .replace(\"좋은점 5\", \"\").strip())\n",
    "\n",
    "# 역 1h 소요"
   ]
  },
  {
   "cell_type": "code",
   "execution_count": 22,
   "metadata": {},
   "outputs": [
    {
     "data": {
      "text/plain": [
       "['\"노력이 결과가 되는 건설\"\\r\\r‘무임승차하지 않는 삶’ 중학 시절, 은사님께서 해주신 말씀입니다. 직접 노력해서 결과를 얻어야 한다는 기본적 원칙은 곧 제 인생의 가치관이 되었습니다. 인생의 가치관이 생기자 새로운 목표가 생겼습니다. 그 계기는 고등학생 시절 학창시절 우연히 하게 된 일용직 근로자 경험에서 시작되었습니다. 작은 벽돌이 쌓여서 큰 건물이 완성되는 모습은 저에겐 큰 놀라움이었습니다. 당시 어린 눈으로 봤던 건설현장은 저의 가치관이 그대로 투영된 곳으로 다가왔고 곧, 건설현장은 저에게 목표가 되었습니다.\\r\\r저는 건축엔지니어로서의 기본을 다지기 위해 아래와 같은 노력을 했습니다.\\r1) 다양한 분야의 지식을 습득했습니다. \\r건축은 구조, 시공, 안전 등 다양한 분야로 이루어져 있습니다. 그 때문에 한 가지 분야만 능통해서는 온전한 건물을 지을 수 없습니다. 그래서 저는 설계, 안전, 환경, 시공 등 다양한 전공수업을 이수하였습니다. 다양한 변수가 있는 현장에서 습득한 지식을 토대로 공기단축에 이바지하도록 하겠습니다.\\r\\r2) 다양한 경험을 위해 경진대회에 참여했습니다.\\r학부 시절 시공경진 대회에 참여했습니다. 대회를 준비하는 과정에서의 공부는 시공과 하자에 대한 다양한 지식을 얻을 수 있었습니다. 또한, 21개 팀이 참가한 경진대회에서 100명이 넘는 인원과 충남지역 대기업 실무자분들 앞에서 발표한 경험은 저를 더욱 단단하게 만들어 주었고, \\'대상\\'이라는 성과도 얻을 수 있었습니다.',\n",
       " '\"안전은 ‘필수’입니다\"\\r\\r가장 기억에 남는 전공은 안전공학입니다. 현직에 종사하시는 교수님 아래에서 안전의 이론과 더불어 현장에서의 적용을 동시에 배울 수 있었습니다. 안전교육법, 감성접근법 등을 배움은 분명 저의 강점이 될 것입니다.\\r이 수업을 통해 안전은 사람의 생명뿐만 아니라 공사의 성패와도 관련 있음을 알게 되었습니다. 안전이 현장에서 ‘필수’임을 깨달은 저는 건설안전기사를 취득하였습니다. 무재해 공사를 만들어 업계순위 10위 도약, 수주 10조 달성 등 비전 2020 달성에 앞장서겠습니다.\\r\\r\"개인의 힘이 아닌 조직의 힘\"\\r\\r교양 과목에서 가장 관심 있었던 과목은 창의 발명과 지식재산의 이해입니다. 교수님은 ‘창의적 생각을 위해 비판하지 말고 수용하라’고 말씀하시며 ‘브레인스토밍’을 강조하셨습니다. 개인의 능력이 아닌 속한 공동체의 분위기가 창의적 생각의 중요한 부분임을 알게 되었습니다. 저는 이를 곧 제가 속한 조직에 적용하였고 학교와 교회 등에서 좋은 결과를 얻을 수 있었습니다. 조직에서 ‘개인’을 중요시하지 않고 인화 단결하여 창의적 해결방안을 제시하겠습니다.',\n",
       " '\"협력으로 문제를 해결하겠습니다\"\\r\\r평소 CM에 관심이 있던 후배, 동기와 함께 팀을 이루어 공모전에 참여했습니다. 총 6명이 한 조를 이루었고 저는 리더를 맡았습니다.\\r\\r상황이 좋지 않았습니다. 부지선정부터 공법선정 등 준비해야 할 범위가 너무 컸으며 더불어 시험과 과제제출 등이 겹치면서 준비에 어려움이 있었습니다. 저는 리더로서 두 가지 방법을 제안하여 문제를 해결하고자 했습니다.\\r1) 흥미에 맞는 분야를 담당: 열정적으로 과업을 수행하도록 했습니다.\\r2) 피드백 모임- 개인이 미처 보지 못한 부분을 점검하도록 했습니다.\\r그 외에도 팀원끼리 지속해서 연락하여 서로 모르는 부분을 채워가며 공모전을 준비했습니다. \\r\\r그 결과 바쁜 일정 와중에도 모두가 만족하는 작품을 완성할 수 있었습니다. 비록, 순위에는 들지 못했지만, 사업 전반을 계획해보고 공사의 흐름을 파악할 수 있었던 값진 경험이었습니다.\\t\\r\\r이 경험을 통해 구성원 간 소통의 중요성과 협업을 통해 난관을 이겨내는 법을 배웠습니다. 다수의 업체와 협력이 이루어지는 건설 현장에서 소통을 통해 갈등을 유연하게 해결하고 협력을 통해 효율적으로 목표를 달성하겠습니다.',\n",
       " '건축분야에서 가장 중요한 역량은 전문성입니다. 품질확보와 안전한 공사를 위해서는 현장관리자의 전문성은 필수이기 때문입니다. 저는 성공적 공사를 위해 아래와 같은 전문성을 키웠습니다.\\r\\r\"최고의 품질을 위한 전문성\"\\r\\r첫째, 건축기사를 취득했습니다. 현장관리자의 기본자질을 갖추었습니다.\\r둘째, 학업에 최선을 다했습니다. 최고의 품질을 얻기 위해 재료학, 시공학 등을 이수하였으며 4학기 동안 4.28이라는 높은 성적을 받았습니다. \\r\\r\"안전을 위한 전문성\"\\r\\r첫째, 건설안전기사를 취득했습니다. 안전을 위한 전문성을 쌓았습니다.\\r둘째, 교육 경험을 쌓았습니다. 유치원생부터 고등학생까지 가르치면서 듣는 이의 수준에 따라 난이도를 조절하며 내용을 논리적으로 전달하는 역량을 키웠습니다. 안전 지식과 교육기술을 바탕으로 확실히 교육하여 무사고, 무재해 현장을 만들겠습니다.\\r\\r경기 침체와 8.2 부동산 대책, 국제유가의 지지부진으로 한동안 건설업계의 수익성 침체는 불가피할 것으로 판단됩니다. 따라서 앞으로 건설업계의 경제성 확보의 핵심은 하자와 안전사고의 최소화를 통한 ‘손실의 최소화’라 생각합니다.\\r제가 쌓아온 전문성을 기반으로 품질과 안전이 보장되는 현장을 만들어 경제적 공사에 앞장서겠습니다.',\n",
       " '\"조직에 헌신하는 자세로 끝까지 임무를 완수하겠습니다.\"\\r\\r교회 청년부의 상황은 좋지 않았습니다. 분위기는 침체하였고 출석률은 점점 떨어졌습니다. 당시 회장으로서 책임감을 느낀 저는 나오고 싶은 교회로 만들고 싶었습니다. 풋살, 볼링 등 동아리를 만들어 서로 친목을 다지게 하였고 나아가 타 교회와의 친선경기를 계획하여 소속감을 더했습니다. 또한, 운동회, 올림픽 등 재미있는 행사를 기획하여 청년들의 참여를 이끌었습니다. \\r\\r사실 학업과 동시에 교회 활동을 하는 것은 힘들었습니다. 자격증 취득, 시험 등 너무나 바빴지만 그런데도 최선을 다할 수 있었음은 바로 조직에 대한 ‘애착’과 ‘주인의식’이었습니다. 항상 내 일이라 생각하며 임원과 평일에도 나와 회의하고 행사를 준비한 결과 출석률은 이전의 1.5배 증가할 수 있었습니다.\\r\\r민원, 안전사고 등 건설현장의 상황은 예측할 수 없습니다. 또한, 현장 상황이 열악할 수도 있습니다. 저는 이전에도 힘든 상황 가운데에서 ‘조직’을 위해 헌신하며 임무를 완수한 적이 있습니다. 어려움보단 저에게 맡겨진 ‘임무’에 집중하겠습니다. 어떠한 상황에도 주인의식을 갖고 책임완수의 자세로 귀사에 보탬이 되겠습니다.']"
      ]
     },
     "execution_count": 22,
     "metadata": {},
     "output_type": "execute_result"
    }
   ],
   "source": [
    "win_apply[0:5]"
   ]
  },
  {
   "cell_type": "code",
   "execution_count": 32,
   "metadata": {
    "collapsed": true
   },
   "outputs": [],
   "source": [
    "# 글자수, Byte 제거\n",
    "import re\n",
    "\n",
    "p = re.compile('\\글자수.*?\\Byte')\n",
    "\n",
    "for i in range(len(win_apply)):\n",
    "    real_text = re.sub(p, \"\", win_apply[i])\n",
    "    win_apply[i] = real_text"
   ]
  },
  {
   "cell_type": "code",
   "execution_count": 37,
   "metadata": {
    "collapsed": true
   },
   "outputs": [],
   "source": [
    "# \"\" 안 소제목 없애기\n",
    "import re\n",
    "\n",
    "p = re.compile('\\\".*?\\\"')\n",
    "\n",
    "for i in range(len(win_apply)):\n",
    "    real_text = re.sub(p, \"\", win_apply[i])\n",
    "    win_apply[i] = real_text"
   ]
  },
  {
   "cell_type": "code",
   "execution_count": 41,
   "metadata": {
    "collapsed": true
   },
   "outputs": [],
   "source": [
    "# 공백, \\r, 숫자) 없애기\n",
    "win_apply2 = []\n",
    "\n",
    "for i in win_apply:\n",
    "    win_apply2.append(i.replace(\"\\r\",\"\").replace(\"1)\",\"\").replace(\"2)\",\"\").replace(\"3)\",\"\")\n",
    "                      .replace(\"4)\",\"\").replace(\"5)\",\"\").replace(\"6)\",\"\").strip())"
   ]
  },
  {
   "cell_type": "code",
   "execution_count": 44,
   "metadata": {
    "collapsed": true
   },
   "outputs": [],
   "source": [
    "win_apply = win_apply2"
   ]
  },
  {
   "cell_type": "code",
   "execution_count": 45,
   "metadata": {},
   "outputs": [
    {
     "data": {
      "text/plain": [
       "[\"‘무임승차하지 않는 삶’ 중학 시절, 은사님께서 해주신 말씀입니다. 직접 노력해서 결과를 얻어야 한다는 기본적 원칙은 곧 제 인생의 가치관이 되었습니다. 인생의 가치관이 생기자 새로운 목표가 생겼습니다. 그 계기는 고등학생 시절 학창시절 우연히 하게 된 일용직 근로자 경험에서 시작되었습니다. 작은 벽돌이 쌓여서 큰 건물이 완성되는 모습은 저에겐 큰 놀라움이었습니다. 당시 어린 눈으로 봤던 건설현장은 저의 가치관이 그대로 투영된 곳으로 다가왔고 곧, 건설현장은 저에게 목표가 되었습니다.저는 건축엔지니어로서의 기본을 다지기 위해 아래와 같은 노력을 했습니다. 다양한 분야의 지식을 습득했습니다. 건축은 구조, 시공, 안전 등 다양한 분야로 이루어져 있습니다. 그 때문에 한 가지 분야만 능통해서는 온전한 건물을 지을 수 없습니다. 그래서 저는 설계, 안전, 환경, 시공 등 다양한 전공수업을 이수하였습니다. 다양한 변수가 있는 현장에서 습득한 지식을 토대로 공기단축에 이바지하도록 하겠습니다. 다양한 경험을 위해 경진대회에 참여했습니다.학부 시절 시공경진 대회에 참여했습니다. 대회를 준비하는 과정에서의 공부는 시공과 하자에 대한 다양한 지식을 얻을 수 있었습니다. 또한, 21개 팀이 참가한 경진대회에서 100명이 넘는 인원과 충남지역 대기업 실무자분들 앞에서 발표한 경험은 저를 더욱 단단하게 만들어 주었고, '대상'이라는 성과도 얻을 수 있었습니다.\",\n",
       " '가장 기억에 남는 전공은 안전공학입니다. 현직에 종사하시는 교수님 아래에서 안전의 이론과 더불어 현장에서의 적용을 동시에 배울 수 있었습니다. 안전교육법, 감성접근법 등을 배움은 분명 저의 강점이 될 것입니다.이 수업을 통해 안전은 사람의 생명뿐만 아니라 공사의 성패와도 관련 있음을 알게 되었습니다. 안전이 현장에서 ‘필수’임을 깨달은 저는 건설안전기사를 취득하였습니다. 무재해 공사를 만들어 업계순위 10위 도약, 수주 10조 달성 등 비전 2020 달성에 앞장서겠습니다.교양 과목에서 가장 관심 있었던 과목은 창의 발명과 지식재산의 이해입니다. 교수님은 ‘창의적 생각을 위해 비판하지 말고 수용하라’고 말씀하시며 ‘브레인스토밍’을 강조하셨습니다. 개인의 능력이 아닌 속한 공동체의 분위기가 창의적 생각의 중요한 부분임을 알게 되었습니다. 저는 이를 곧 제가 속한 조직에 적용하였고 학교와 교회 등에서 좋은 결과를 얻을 수 있었습니다. 조직에서 ‘개인’을 중요시하지 않고 인화 단결하여 창의적 해결방안을 제시하겠습니다.',\n",
       " '평소 CM에 관심이 있던 후배, 동기와 함께 팀을 이루어 공모전에 참여했습니다. 총 6명이 한 조를 이루었고 저는 리더를 맡았습니다.상황이 좋지 않았습니다. 부지선정부터 공법선정 등 준비해야 할 범위가 너무 컸으며 더불어 시험과 과제제출 등이 겹치면서 준비에 어려움이 있었습니다. 저는 리더로서 두 가지 방법을 제안하여 문제를 해결하고자 했습니다. 흥미에 맞는 분야를 담당: 열정적으로 과업을 수행하도록 했습니다. 피드백 모임- 개인이 미처 보지 못한 부분을 점검하도록 했습니다.그 외에도 팀원끼리 지속해서 연락하여 서로 모르는 부분을 채워가며 공모전을 준비했습니다. 그 결과 바쁜 일정 와중에도 모두가 만족하는 작품을 완성할 수 있었습니다. 비록, 순위에는 들지 못했지만, 사업 전반을 계획해보고 공사의 흐름을 파악할 수 있었던 값진 경험이었습니다.\\t이 경험을 통해 구성원 간 소통의 중요성과 협업을 통해 난관을 이겨내는 법을 배웠습니다. 다수의 업체와 협력이 이루어지는 건설 현장에서 소통을 통해 갈등을 유연하게 해결하고 협력을 통해 효율적으로 목표를 달성하겠습니다.',\n",
       " '건축분야에서 가장 중요한 역량은 전문성입니다. 품질확보와 안전한 공사를 위해서는 현장관리자의 전문성은 필수이기 때문입니다. 저는 성공적 공사를 위해 아래와 같은 전문성을 키웠습니다.첫째, 건축기사를 취득했습니다. 현장관리자의 기본자질을 갖추었습니다.둘째, 학업에 최선을 다했습니다. 최고의 품질을 얻기 위해 재료학, 시공학 등을 이수하였으며 4학기 동안 4.28이라는 높은 성적을 받았습니다. 첫째, 건설안전기사를 취득했습니다. 안전을 위한 전문성을 쌓았습니다.둘째, 교육 경험을 쌓았습니다. 유치원생부터 고등학생까지 가르치면서 듣는 이의 수준에 따라 난이도를 조절하며 내용을 논리적으로 전달하는 역량을 키웠습니다. 안전 지식과 교육기술을 바탕으로 확실히 교육하여 무사고, 무재해 현장을 만들겠습니다.경기 침체와 8.2 부동산 대책, 국제유가의 지지부진으로 한동안 건설업계의 수익성 침체는 불가피할 것으로 판단됩니다. 따라서 앞으로 건설업계의 경제성 확보의 핵심은 하자와 안전사고의 최소화를 통한 ‘손실의 최소화’라 생각합니다.제가 쌓아온 전문성을 기반으로 품질과 안전이 보장되는 현장을 만들어 경제적 공사에 앞장서겠습니다.']"
      ]
     },
     "execution_count": 45,
     "metadata": {},
     "output_type": "execute_result"
    }
   ],
   "source": [
    "win_apply[0:4]"
   ]
  },
  {
   "cell_type": "code",
   "execution_count": 46,
   "metadata": {
    "collapsed": true
   },
   "outputs": [],
   "source": [
    "## 문장 수 구하기\n",
    "count_sentence = 0\n",
    "\n",
    "for i in win_apply:\n",
    "    a = float(i.count(\"다.\"))\n",
    "    count_sentence = count_sentence + a"
   ]
  },
  {
   "cell_type": "code",
   "execution_count": 49,
   "metadata": {},
   "outputs": [
    {
     "data": {
      "text/plain": [
       "\"‘무임승차하지 않는 삶’ 중학 시절, 은사님께서 해주신 말씀입니다. 직접 노력해서 결과를 얻어야 한다는 기본적 원칙은 곧 제 인생의 가치관이 되었습니다. 인생의 가치관이 생기자 새로운 목표가 생겼습니다. 그 계기는 고등학생 시절 학창시절 우연히 하게 된 일용직 근로자 경험에서 시작되었습니다. 작은 벽돌이 쌓여서 큰 건물이 완성되는 모습은 저에겐 큰 놀라움이었습니다. 당시 어린 눈으로 봤던 건설현장은 저의 가치관이 그대로 투영된 곳으로 다가왔고 곧, 건설현장은 저에게 목표가 되었습니다.저는 건축엔지니어로서의 기본을 다지기 위해 아래와 같은 노력을 했습니다. 다양한 분야의 지식을 습득했습니다. 건축은 구조, 시공, 안전 등 다양한 분야로 이루어져 있습니다. 그 때문에 한 가지 분야만 능통해서는 온전한 건물을 지을 수 없습니다. 그래서 저는 설계, 안전, 환경, 시공 등 다양한 전공수업을 이수하였습니다. 다양한 변수가 있는 현장에서 습득한 지식을 토대로 공기단축에 이바지하도록 하겠습니다. 다양한 경험을 위해 경진대회에 참여했습니다.학부 시절 시공경진 대회에 참여했습니다. 대회를 준비하는 과정에서의 공부는 시공과 하자에 대한 다양한 지식을 얻을 수 있었습니다. 또한, 21개 팀이 참가한 경진대회에서 100명이 넘는 인원과 충남지역 대기업 실무자분들 앞에서 발표한 경험은 저를 더욱 단단하게 만들어 주었고, '대상'이라는 성과도 얻을 수 있었습니다.\""
      ]
     },
     "execution_count": 49,
     "metadata": {},
     "output_type": "execute_result"
    }
   ],
   "source": [
    "win_apply[0]"
   ]
  },
  {
   "cell_type": "code",
   "execution_count": 50,
   "metadata": {},
   "outputs": [
    {
     "data": {
      "text/plain": [
       "184872.0"
      ]
     },
     "execution_count": 50,
     "metadata": {},
     "output_type": "execute_result"
    }
   ],
   "source": [
    "count_sentence # 185224 문장"
   ]
  },
  {
   "cell_type": "code",
   "execution_count": 51,
   "metadata": {},
   "outputs": [
    {
     "data": {
      "text/plain": [
       "18605"
      ]
     },
     "execution_count": 51,
     "metadata": {},
     "output_type": "execute_result"
    }
   ],
   "source": [
    "len(win_apply) #18605개의 자소서 항목"
   ]
  },
  {
   "cell_type": "code",
   "execution_count": 3,
   "metadata": {
    "collapsed": true
   },
   "outputs": [],
   "source": [
    "import pickle"
   ]
  },
  {
   "cell_type": "code",
   "execution_count": 52,
   "metadata": {},
   "outputs": [
    {
     "data": {
      "text/plain": [
       "<function BufferedWriter.close>"
      ]
     },
     "execution_count": 52,
     "metadata": {},
     "output_type": "execute_result"
    }
   ],
   "source": [
    "## pickle에 저장하기\n",
    "# with open('win_apply.txt', 'wb') as f:\n",
    "#     pickle.dump(win_apply, f)\n",
    "# f.close"
   ]
  },
  {
   "cell_type": "code",
   "execution_count": 4,
   "metadata": {
    "collapsed": true
   },
   "outputs": [],
   "source": [
    "## pickle load 하기\n",
    "with open('win_apply.txt', 'rb') as f:\n",
    "    win_apply = pickle.load(f)"
   ]
  },
  {
   "cell_type": "code",
   "execution_count": 6,
   "metadata": {},
   "outputs": [
    {
     "data": {
      "text/plain": [
       "[\"‘무임승차하지 않는 삶’ 중학 시절, 은사님께서 해주신 말씀입니다. 직접 노력해서 결과를 얻어야 한다는 기본적 원칙은 곧 제 인생의 가치관이 되었습니다. 인생의 가치관이 생기자 새로운 목표가 생겼습니다. 그 계기는 고등학생 시절 학창시절 우연히 하게 된 일용직 근로자 경험에서 시작되었습니다. 작은 벽돌이 쌓여서 큰 건물이 완성되는 모습은 저에겐 큰 놀라움이었습니다. 당시 어린 눈으로 봤던 건설현장은 저의 가치관이 그대로 투영된 곳으로 다가왔고 곧, 건설현장은 저에게 목표가 되었습니다.저는 건축엔지니어로서의 기본을 다지기 위해 아래와 같은 노력을 했습니다. 다양한 분야의 지식을 습득했습니다. 건축은 구조, 시공, 안전 등 다양한 분야로 이루어져 있습니다. 그 때문에 한 가지 분야만 능통해서는 온전한 건물을 지을 수 없습니다. 그래서 저는 설계, 안전, 환경, 시공 등 다양한 전공수업을 이수하였습니다. 다양한 변수가 있는 현장에서 습득한 지식을 토대로 공기단축에 이바지하도록 하겠습니다. 다양한 경험을 위해 경진대회에 참여했습니다.학부 시절 시공경진 대회에 참여했습니다. 대회를 준비하는 과정에서의 공부는 시공과 하자에 대한 다양한 지식을 얻을 수 있었습니다. 또한, 21개 팀이 참가한 경진대회에서 100명이 넘는 인원과 충남지역 대기업 실무자분들 앞에서 발표한 경험은 저를 더욱 단단하게 만들어 주었고, '대상'이라는 성과도 얻을 수 있었습니다.\",\n",
       " '가장 기억에 남는 전공은 안전공학입니다. 현직에 종사하시는 교수님 아래에서 안전의 이론과 더불어 현장에서의 적용을 동시에 배울 수 있었습니다. 안전교육법, 감성접근법 등을 배움은 분명 저의 강점이 될 것입니다.이 수업을 통해 안전은 사람의 생명뿐만 아니라 공사의 성패와도 관련 있음을 알게 되었습니다. 안전이 현장에서 ‘필수’임을 깨달은 저는 건설안전기사를 취득하였습니다. 무재해 공사를 만들어 업계순위 10위 도약, 수주 10조 달성 등 비전 2020 달성에 앞장서겠습니다.교양 과목에서 가장 관심 있었던 과목은 창의 발명과 지식재산의 이해입니다. 교수님은 ‘창의적 생각을 위해 비판하지 말고 수용하라’고 말씀하시며 ‘브레인스토밍’을 강조하셨습니다. 개인의 능력이 아닌 속한 공동체의 분위기가 창의적 생각의 중요한 부분임을 알게 되었습니다. 저는 이를 곧 제가 속한 조직에 적용하였고 학교와 교회 등에서 좋은 결과를 얻을 수 있었습니다. 조직에서 ‘개인’을 중요시하지 않고 인화 단결하여 창의적 해결방안을 제시하겠습니다.',\n",
       " '평소 CM에 관심이 있던 후배, 동기와 함께 팀을 이루어 공모전에 참여했습니다. 총 6명이 한 조를 이루었고 저는 리더를 맡았습니다.상황이 좋지 않았습니다. 부지선정부터 공법선정 등 준비해야 할 범위가 너무 컸으며 더불어 시험과 과제제출 등이 겹치면서 준비에 어려움이 있었습니다. 저는 리더로서 두 가지 방법을 제안하여 문제를 해결하고자 했습니다. 흥미에 맞는 분야를 담당: 열정적으로 과업을 수행하도록 했습니다. 피드백 모임- 개인이 미처 보지 못한 부분을 점검하도록 했습니다.그 외에도 팀원끼리 지속해서 연락하여 서로 모르는 부분을 채워가며 공모전을 준비했습니다. 그 결과 바쁜 일정 와중에도 모두가 만족하는 작품을 완성할 수 있었습니다. 비록, 순위에는 들지 못했지만, 사업 전반을 계획해보고 공사의 흐름을 파악할 수 있었던 값진 경험이었습니다.\\t이 경험을 통해 구성원 간 소통의 중요성과 협업을 통해 난관을 이겨내는 법을 배웠습니다. 다수의 업체와 협력이 이루어지는 건설 현장에서 소통을 통해 갈등을 유연하게 해결하고 협력을 통해 효율적으로 목표를 달성하겠습니다.']"
      ]
     },
     "execution_count": 6,
     "metadata": {},
     "output_type": "execute_result"
    }
   ],
   "source": [
    "win_apply[0:3]"
   ]
  },
  {
   "cell_type": "markdown",
   "metadata": {},
   "source": [
    "### 형태소 분석(Term-Document Matrix)"
   ]
  },
  {
   "cell_type": "code",
   "execution_count": 33,
   "metadata": {
    "collapsed": true
   },
   "outputs": [],
   "source": [
    "## 형태소 분석기\n",
    "tagger = Komoran()"
   ]
  },
  {
   "cell_type": "code",
   "execution_count": 38,
   "metadata": {
    "collapsed": true
   },
   "outputs": [],
   "source": [
    "## 명사추출기 함수\n",
    "def get_noun(text):\n",
    "    nouns = tagger.nouns(text)\n",
    "    return [n for n in nouns if len(n) >= 1]  # 명사만 추출"
   ]
  },
  {
   "cell_type": "code",
   "execution_count": 39,
   "metadata": {
    "collapsed": true
   },
   "outputs": [],
   "source": [
    "## tokenizer\n",
    "cv = CountVectorizer(tokenizer=get_noun)"
   ]
  },
  {
   "cell_type": "code",
   "execution_count": 40,
   "metadata": {
    "collapsed": true
   },
   "outputs": [],
   "source": [
    "## tdm 만들기\n",
    "# 5min 소요\n",
    "tdm = cv.fit_transform(win_apply)"
   ]
  },
  {
   "cell_type": "code",
   "execution_count": 41,
   "metadata": {
    "collapsed": true
   },
   "outputs": [],
   "source": [
    "## 단어 빈도 구하기\n",
    "words = cv.get_feature_names()\n",
    "count_mat = tdm.sum(axis=0)"
   ]
  },
  {
   "cell_type": "code",
   "execution_count": 43,
   "metadata": {
    "collapsed": true
   },
   "outputs": [],
   "source": [
    "count = numpy.squeeze(numpy.asarray(count_mat))"
   ]
  },
  {
   "cell_type": "code",
   "execution_count": 44,
   "metadata": {
    "collapsed": true
   },
   "outputs": [],
   "source": [
    "word_count = list(zip(words, count))"
   ]
  },
  {
   "cell_type": "code",
   "execution_count": 45,
   "metadata": {
    "collapsed": true
   },
   "outputs": [],
   "source": [
    "word_count = sorted(word_count, key=operator.itemgetter(1), reverse=True) # 역순으로 정렬"
   ]
  },
  {
   "cell_type": "code",
   "execution_count": 1,
   "metadata": {
    "collapsed": true
   },
   "outputs": [],
   "source": [
    "#word_count"
   ]
  }
 ],
 "metadata": {
  "kernelspec": {
   "display_name": "Python 3",
   "language": "python",
   "name": "python3"
  },
  "language_info": {
   "codemirror_mode": {
    "name": "ipython",
    "version": 3
   },
   "file_extension": ".py",
   "mimetype": "text/x-python",
   "name": "python",
   "nbconvert_exporter": "python",
   "pygments_lexer": "ipython3",
   "version": "3.6.5"
  }
 },
 "nbformat": 4,
 "nbformat_minor": 2
}
